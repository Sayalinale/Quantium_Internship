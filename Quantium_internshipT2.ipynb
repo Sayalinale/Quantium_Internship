{
 "cells": [
  {
   "cell_type": "code",
   "execution_count": 3,
   "id": "42db7de7",
   "metadata": {},
   "outputs": [
    {
     "name": "stdout",
     "output_type": "stream",
     "text": [
      "     store_number  total_sales  num_customers  num_transactions  \\\n",
      "0               1      1386.90            245               332   \n",
      "1               2      1128.50            221               287   \n",
      "2               3      7526.15            334               878   \n",
      "3               4      9127.00            350              1044   \n",
      "4               5      5739.70            231               818   \n",
      "..            ...          ...            ...               ...   \n",
      "266           268      1549.05            228               320   \n",
      "267           269      6664.50            247               956   \n",
      "268           270      6697.95            239               975   \n",
      "269           271      5765.10            231               817   \n",
      "270           272      2744.35            217               329   \n",
      "\n",
      "     transactions_per_customer  \n",
      "0                     1.355102  \n",
      "1                     1.298643  \n",
      "2                     2.628743  \n",
      "3                     2.982857  \n",
      "4                     3.541126  \n",
      "..                         ...  \n",
      "266                   1.403509  \n",
      "267                   3.870445  \n",
      "268                   4.079498  \n",
      "269                   3.536797  \n",
      "270                   1.516129  \n",
      "\n",
      "[271 rows x 5 columns]\n"
     ]
    }
   ],
   "source": [
    "import pandas as pd\n",
    "import numpy as np\n",
    "\n",
    "# Load the transaction data\n",
    "transaction_data = pd.read_csv(r\"D:\\Sayali\\QuantiQuantium -Internship\\QVI_data.csv\")\n",
    "\n",
    "# Convert date columns to datetime type if necessary\n",
    "transaction_data['DATE'] = pd.to_datetime(transaction_data['DATE'])\n",
    "\n",
    "# Filter data for the pre-trial period\n",
    "pre_trial_data = transaction_data[transaction_data['DATE'] < '2019-02-01']\n",
    "\n",
    "# Calculate summary statistics for each store\n",
    "store_metrics = pre_trial_data.groupby('STORE_NBR').agg({\n",
    "    'TOT_SALES': 'sum',\n",
    "    'LYLTY_CARD_NBR': 'nunique',\n",
    "    'TXN_ID': 'count'\n",
    "}).reset_index()\n",
    "\n",
    "# Rename columns for clarity\n",
    "store_metrics.columns = ['store_number', 'total_sales', 'num_customers', 'num_transactions']\n",
    "\n",
    "# Calculate transactions per customer\n",
    "store_metrics['transactions_per_customer'] = store_metrics['num_transactions'] / store_metrics['num_customers']\n",
    "\n",
    "# Print the summary statistics\n",
    "print(store_metrics)"
   ]
  },
  {
   "cell_type": "markdown",
   "id": "b275b42e",
   "metadata": {},
   "source": [
    "1. The code starts by importing the necessary libraries: pandas for data manipulation and numpy for numerical operations.\n",
    "\n",
    "2. It loads the transaction data from a CSV file located at the specified path.\n",
    "\n",
    "3. The 'DATE' column is converted to the datetime data type using `pd.to_datetime`.\n",
    "\n",
    "4. The data is filtered to include only the pre-trial period, which is before '2019-02-01'.\n",
    "\n",
    "5. The `groupby` function is used to group the data by 'STORE_NBR' (store number), and the `agg` function is applied to calculate summary statistics for each store:\n",
    "   - 'TOT_SALES': Sum of total sales\n",
    "   - 'LYLTY_CARD_NBR': Count of unique loyalty card numbers (proxy for the number of customers)\n",
    "   - 'TXN_ID': Count of transactions\n",
    "\n",
    "6. The resulting DataFrame (`store_metrics`) is reset with an index, and the columns are renamed for better clarity.\n",
    "\n",
    "7. A new column 'transactions_per_customer' is added, which is calculated by dividing the 'num_transactions' by 'num_customers' for each store.\n",
    "\n",
    "8. Finally, the `store_metrics` DataFrame is printed, displaying the summary statistics for each store.\n",
    "\n",
    "Output Discussion:\n",
    "The output is a DataFrame with 271 rows (one for each store) and 5 columns:\n",
    "\n",
    "- 'store_number': The store number\n",
    "- 'total_sales': The total sales for the pre-trial period\n",
    "- 'num_customers': The number of unique customers (based on loyalty card numbers)\n",
    "- 'num_transactions': The total number of transactions\n",
    "- 'transactions_per_customer': The average number of transactions per customer\n",
    "\n",
    "This output gives us an overview of the performance of each store during the pre-trial period. It provides metrics like total sales, customer count, transaction count, and the average number of transactions per customer. These metrics can be used to identify suitable control stores for the trial stores by comparing their performance before the trial period.\n",
    "\n",
    "For example, if we want to select a control store for the trial store with 'store_number' 77, we can look for stores with similar total sales, customer count, and transactions per customer during the pre-trial period.\n",
    "\n",
    "The summary statistics can also be used to gain insights into the overall performance of the stores and identify potential areas for improvement or further analysis."
   ]
  },
  {
   "cell_type": "code",
   "execution_count": 4,
   "id": "f1ea500b",
   "metadata": {},
   "outputs": [
    {
     "name": "stdout",
     "output_type": "stream",
     "text": [
      "    store_number  total_sales  num_customers  num_transactions  \\\n",
      "76            77      1699.00            239               317   \n",
      "85            86      6119.85            254               882   \n",
      "87            88      9383.60            374              1082   \n",
      "\n",
      "    transactions_per_customer  \n",
      "76                   1.326360  \n",
      "85                   3.472441  \n",
      "87                   2.893048  \n",
      "{77.0: 188.0, 86.0: 13.0, 88.0: 237.0}\n"
     ]
    }
   ],
   "source": [
    "# Extract metrics for trial stores\n",
    "trial_stores = store_metrics[store_metrics['store_number'].isin([77, 86, 88])]\n",
    "print(trial_stores)\n",
    "\n",
    "# Define a function to calculate similarity score (e.g., Euclidean distance)\n",
    "def calculate_similarity(row, trial_store):\n",
    "    return np.sqrt(\n",
    "        (row['total_sales'] - trial_store['total_sales'])**2 +\n",
    "        (row['num_customers'] - trial_store['num_customers'])**2 +\n",
    "        (row['transactions_per_customer'] - trial_store['transactions_per_customer'])**2\n",
    "    )\n",
    "\n",
    "# Calculate similarity for each trial store and find control stores\n",
    "control_stores = {}\n",
    "for index, trial_store in trial_stores.iterrows():\n",
    "    store_metrics['similarity_score'] = store_metrics.apply(lambda row: calculate_similarity(row, trial_store), axis=1)\n",
    "    control_store = store_metrics[(store_metrics['store_number'] != trial_store['store_number']) & (store_metrics['store_number'].isin([77, 86, 88]) == False)].sort_values('similarity_score').iloc[0]\n",
    "    control_stores[trial_store['store_number']] = control_store['store_number']\n",
    "\n",
    "print(control_stores)\n"
   ]
  },
  {
   "cell_type": "markdown",
   "id": "99fe5b8e",
   "metadata": {},
   "source": [
    "Based on the analysis, we have identified control stores for each trial store based on their similarity in terms of total sales, number of customers, and transactions per customer. Here are the conclusions and results:\n",
    "\n",
    "1. **Store 77:**\n",
    "   - Total Sales: \\$1699.00\n",
    "   - Number of Customers: 239\n",
    "   - Transactions per Customer: 1.33\n",
    "   - Control Store: 188\n",
    "\n",
    "2. **Store 86:**\n",
    "   - Total Sales: \\$6119.85\n",
    "   - Number of Customers: 254\n",
    "   - Transactions per Customer: 3.47\n",
    "   - Control Store: 13\n",
    "\n",
    "3. **Store 88:**\n",
    "   - Total Sales: \\$9383.60\n",
    "   - Number of Customers: 374\n",
    "   - Transactions per Customer: 2.89\n",
    "   - Control Store: 237\n",
    "\n",
    "**Conclusion:**\n",
    "\n",
    "Based on the similarity analysis and control store selection, we have identified the following control stores for each trial store:\n",
    "- Store 77: Control Store 188\n",
    "- Store 86: Control Store 13\n",
    "- Store 88: Control Store 237\n",
    "\n",
    "These control stores will be used for comparison during the trial period to assess the effectiveness of the new layout changes. By comparing the sales performance of trial stores against their respective control stores during the trial period, we can determine whether the new layout resulted in a significant uplift in sales."
   ]
  },
  {
   "cell_type": "code",
   "execution_count": 5,
   "id": "98ac2a10",
   "metadata": {},
   "outputs": [
    {
     "name": "stdout",
     "output_type": "stream",
     "text": [
      "   STORE_NBR  TOT_SALES_trial\n",
      "0         77            777.0\n",
      "1         86           2788.2\n",
      "2         88           4286.8\n",
      "   STORE_NBR  TOT_SALES_control\n",
      "0         13             2928.0\n",
      "1        188              905.0\n",
      "2        237             3817.6\n"
     ]
    }
   ],
   "source": [
    "# Filter data for the trial period\n",
    "trial_data = transaction_data[(transaction_data['DATE'] >= '2019-02-01') & (transaction_data['DATE'] <= '2019-04-30')]\n",
    "\n",
    "# Aggregate sales data for trial stores\n",
    "trial_performance = trial_data[trial_data['STORE_NBR'].isin([77, 86, 88])].groupby('STORE_NBR')['TOT_SALES'].sum().reset_index()\n",
    "trial_performance.columns = ['STORE_NBR', 'TOT_SALES_trial']\n",
    "\n",
    "# Aggregate sales data for control stores\n",
    "control_performance = trial_data[trial_data['STORE_NBR'].isin(control_stores.values())].groupby('STORE_NBR')['TOT_SALES'].sum().reset_index()\n",
    "control_performance.columns = ['STORE_NBR', 'TOT_SALES_control']\n",
    "\n",
    "# Print the aggregated sales data for verification\n",
    "print(trial_performance)\n",
    "print(control_performance)"
   ]
  },
  {
   "cell_type": "markdown",
   "id": "73cb5dbd",
   "metadata": {},
   "source": [
    "We can draw the following conclusions based on the aggregated sales data for the trial and control stores during the trial period:\n",
    "\n",
    "1. **Trial Stores' Performance:**\n",
    "   - Store 77: Total sales during the trial period were \\$777.0.\n",
    "   - Store 86: Total sales during the trial period were \\$2788.2.\n",
    "   - Store 88: Total sales during the trial period were \\$4286.8.\n",
    "\n",
    "2. **Control Stores' Performance:**\n",
    "   - Control Store for Store 77: Total sales during the trial period were \\$2928.0.\n",
    "   - Control Store for Store 86: Total sales during the trial period were \\$905.0.\n",
    "   - Control Store for Store 88: Total sales during the trial period were \\$3817.6.\n",
    "\n",
    "**Analysis:**\n",
    "- Store 77: The trial store's total sales during the trial period were lower compared to its control store, indicating a potential decrease in sales.\n",
    "- Store 86: The trial store's total sales during the trial period were higher compared to its control store, suggesting a potential increase in sales.\n",
    "- Store 88: The trial store's total sales during the trial period were higher compared to its control store, indicating a potential increase in sales.\n",
    "\n",
    "**Conclusion:**\n",
    "- The new layout changes may have a varied impact on sales across different trial stores. While Store 77 experienced a decrease in sales compared to its control store, Stores 86 and 88 showed an increase in sales during the trial period. Further analysis is needed to determine the significance of these changes and whether they are consistent over time. Additionally, considering other factors such as customer feedback and operational efficiency alongside sales data can provide a more comprehensive understanding of the new layout's effectiveness."
   ]
  },
  {
   "cell_type": "code",
   "execution_count": 6,
   "id": "d7fdc61b",
   "metadata": {},
   "outputs": [
    {
     "name": "stdout",
     "output_type": "stream",
     "text": [
      "   STORE_NBR_trial  TOT_SALES_trial  STORE_NBR_control  TOT_SALES_control\n",
      "0               77            777.0                 13             2928.0\n",
      "1               86           2788.2                188              905.0\n",
      "2               88           4286.8                237             3817.6\n"
     ]
    }
   ],
   "source": [
    "# Merge trial and control performance\n",
    "performance_comparison = pd.merge(trial_performance, control_performance, left_index=True, right_index=True, suffixes=('_trial', '_control'))\n",
    "print(performance_comparison)\n"
   ]
  },
  {
   "cell_type": "markdown",
   "id": "f56c79ab",
   "metadata": {},
   "source": [
    "From the provided output, we have the aggregated sales data for both trial and control stores during the trial period. Here's the interpretation of the data:\n",
    "\n",
    "1. **Store 77:**\n",
    "   - Trial Store: Total sales during the trial period were \\$777.0.\n",
    "   - Control Store: Total sales during the trial period were \\$2928.0.\n",
    "\n",
    "2. **Store 86:**\n",
    "   - Trial Store: Total sales during the trial period were \\$2788.2.\n",
    "   - Control Store: Total sales during the trial period were \\$905.0.\n",
    "\n",
    "3. **Store 88:**\n",
    "   - Trial Store: Total sales during the trial period were \\$4286.8.\n",
    "   - Control Store: Total sales during the trial period were \\$3817.6.\n",
    "\n",
    "**Interpretation:**\n",
    "- For Store 77, the trial store's sales were lower compared to its control store, indicating a potential decrease in sales.\n",
    "- For Store 86, the trial store's sales were higher compared to its control store, suggesting a potential increase in sales.\n",
    "- For Store 88, the trial store's sales were also higher compared to its control store, indicating a potential increase in sales.\n",
    "\n",
    "**Conclusion:**\n",
    "- Similar to the previous analysis, the comparison between trial and control stores suggests that the new layout changes may have a varied impact on sales across different stores. Store 86 and Store 88 showed increases in sales, while Store 77 experienced a decrease in sales. Further analysis is required to determine the significance of these changes and whether they are consistent over time. Additionally, considering additional factors beyond sales data alone can provide a more comprehensive understanding of the effectiveness of the new layout changes."
   ]
  },
  {
   "cell_type": "code",
   "execution_count": 7,
   "id": "65b30623",
   "metadata": {},
   "outputs": [
    {
     "name": "stdout",
     "output_type": "stream",
     "text": [
      "   STORE_NBR_trial               type  TOT_SALES\n",
      "0               77    TOT_SALES_trial      777.0\n",
      "1               86    TOT_SALES_trial     2788.2\n",
      "2               88    TOT_SALES_trial     4286.8\n",
      "3               77  TOT_SALES_control     2928.0\n",
      "4               86  TOT_SALES_control      905.0\n",
      "5               88  TOT_SALES_control     3817.6\n"
     ]
    },
    {
     "data": {
      "image/png": "[encoded data removed]",
      "text/plain": [
       "<Figure size 640x480 with 1 Axes>"
      ]
     },
     "metadata": {},
     "output_type": "display_data"
    }
   ],
   "source": [
    "import seaborn as sns\n",
    "import matplotlib.pyplot as plt\n",
    "\n",
    "# Prepare data for visualization\n",
    "performance_melted = performance_comparison.melt(\n",
    "    id_vars='STORE_NBR_trial', \n",
    "    value_vars=['TOT_SALES_trial', 'TOT_SALES_control'], \n",
    "    var_name='type', \n",
    "    value_name='TOT_SALES'\n",
    ")\n",
    "\n",
    "# Ensure performance_melted is correctly populated\n",
    "print(performance_melted)\n",
    "\n",
    "# Visualize sales performance\n",
    "sns.barplot(x='STORE_NBR_trial', y='TOT_SALES', hue='type', data=performance_melted)\n",
    "plt.title('Sales Performance Comparison')\n",
    "plt.xlabel('Store Number')\n",
    "plt.ylabel('Sales')\n",
    "plt.show()"
   ]
  },
  {
   "cell_type": "markdown",
   "id": "d235c886",
   "metadata": {},
   "source": [
    "\n",
    "\n",
    "- **Store Numbers (Trial):**\n",
    "  - Store 77 (Trial)\n",
    "  - Store 86 (Trial)\n",
    "  - Store 88 (Trial)\n",
    "\n",
    "- **Store Numbers (Control):**\n",
    "  - Store 77 (Control)\n",
    "  - Store 86 (Control)\n",
    "  - Store 88 (Control)\n",
    "\n",
    "- **Total Sales:**\n",
    "  - Total sales for each trial store (TOT_SALES_trial)\n",
    "  - Total sales for each control store (TOT_SALES_control)\n",
    "\n",
    "Now, we can visualize the sales performance comparison between trial and control stores using a bar plot. This plot will display the total sales for each store, distinguishing between trial and control groups.\n",
    "\n",
    "Let's interpret the output and visualize it:\n",
    "\n",
    " For  Store  77,  the trial sales were doller 777.0 and the control sales were doller 2928.0.\n",
    " For Store 86, the trial sales were doller 2788.2 and  the control sales were doller 905.0.\n",
    " For  Store  88,  the  trial  sales  were  doller 4286.8  and  the  control  sales  were doller 3817.6.\n",
    " \n",
    "This visualization will provide a clear comparison between trial and control stores in terms of total sales during the trial period."
   ]
  },
  {
   "cell_type": "code",
   "execution_count": null,
   "id": "55bf0797",
   "metadata": {},
   "outputs": [],
   "source": []
  }
 ],
 "metadata": {
  "kernelspec": {
   "display_name": "Python 3 (ipykernel)",
   "language": "python",
   "name": "python3"
  },
  "language_info": {
   "codemirror_mode": {
    "name": "ipython",
    "version": 3
   },
   "file_extension": ".py",
   "mimetype": "text/x-python",
   "name": "python",
   "nbconvert_exporter": "python",
   "pygments_lexer": "ipython3",
   "version": "3.9.13"
  }
 },
 "nbformat": 4,
 "nbformat_minor": 5
}
